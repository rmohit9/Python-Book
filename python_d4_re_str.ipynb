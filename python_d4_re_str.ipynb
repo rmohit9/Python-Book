{
  "nbformat": 4,
  "nbformat_minor": 0,
  "metadata": {
    "colab": {
      "provenance": []
    },
    "kernelspec": {
      "name": "python3",
      "display_name": "Python 3"
    },
    "language_info": {
      "name": "python"
    }
  },
  "cells": [
    {
      "cell_type": "markdown",
      "source": [
        "STRING"
      ],
      "metadata": {
        "id": "rc23iPnJwfkR"
      }
    },
    {
      "cell_type": "code",
      "source": [
        "f_name = \"badshaa\"\n",
        "l_name = \"log\"\n",
        "c_name= 'sunni_k'                                   #.format(variable 1 , variable 2)\n",
        "name=\"f_name:{1}, L_name:{0}, c_name:{2}\".format(f_name,l_name,c_name)\n",
        "name\n",
        "\n",
        "# concept of f string\n",
        "# ame= 'ayush'\n",
        "# a= f\"my name is {ame}\"\n",
        "# a"
      ],
      "metadata": {
        "colab": {
          "base_uri": "https://localhost:8080/",
          "height": 35
        },
        "id": "or1uja2Ctzv6",
        "outputId": "0e72c014-6b34-4941-afce-63ae663bebe8"
      },
      "execution_count": 18,
      "outputs": [
        {
          "output_type": "execute_result",
          "data": {
            "text/plain": [
              "'f_name:log, L_name:badshaa, c_name:sunni_k'"
            ],
            "application/vnd.google.colaboratory.intrinsic+json": {
              "type": "string"
            }
          },
          "metadata": {},
          "execution_count": 18
        }
      ]
    },
    {
      "cell_type": "code",
      "source": [
        "name = \"Killmonger Mogre\"\n",
        "name.lower()                      #print name in lowercase\n"
      ],
      "metadata": {
        "colab": {
          "base_uri": "https://localhost:8080/",
          "height": 35
        },
        "id": "Uw6xORr9xXrV",
        "outputId": "8a560dac-4a51-4a1d-e71f-db51a512e33a"
      },
      "execution_count": 17,
      "outputs": [
        {
          "output_type": "execute_result",
          "data": {
            "text/plain": [
              "'Killmonger Mogre'"
            ],
            "application/vnd.google.colaboratory.intrinsic+json": {
              "type": "string"
            }
          },
          "metadata": {},
          "execution_count": 17
        }
      ]
    },
    {
      "cell_type": "code",
      "source": [
        "name = \"Killmonger Mogre\"\n",
        "name.upper()                      #print name in uppercase\n"
      ],
      "metadata": {
        "colab": {
          "base_uri": "https://localhost:8080/",
          "height": 35
        },
        "id": "sDFww-JqyJs-",
        "outputId": "80f1106d-44cb-4143-dc67-ca88e9222b6f"
      },
      "execution_count": 19,
      "outputs": [
        {
          "output_type": "execute_result",
          "data": {
            "text/plain": [
              "'KILLMONGER MOGRE'"
            ],
            "application/vnd.google.colaboratory.intrinsic+json": {
              "type": "string"
            }
          },
          "metadata": {},
          "execution_count": 19
        }
      ]
    },
    {
      "cell_type": "code",
      "source": [
        "name = \"Killmonger_Mogre\"\n",
        "name.split(\"_\")                           #.split fn\n",
        "                   #\n",
        "a,b=name.split(\"_\")\n"
      ],
      "metadata": {
        "colab": {
          "base_uri": "https://localhost:8080/",
          "height": 35
        },
        "id": "FEwsH5Vcy-CI",
        "outputId": "4a156ff4-a15d-4764-ec03-22635e0c2326"
      },
      "execution_count": 48,
      "outputs": [
        {
          "output_type": "execute_result",
          "data": {
            "text/plain": [
              "'Killmonger_Mogre'"
            ],
            "application/vnd.google.colaboratory.intrinsic+json": {
              "type": "string"
            }
          },
          "metadata": {},
          "execution_count": 48
        }
      ]
    },
    {
      "cell_type": "code",
      "source": [
        "a"
      ],
      "metadata": {
        "colab": {
          "base_uri": "https://localhost:8080/",
          "height": 35
        },
        "id": "ACHJMch30WOm",
        "outputId": "c93af37a-2657-48fc-bebf-4c5a83bf0bb5"
      },
      "execution_count": 28,
      "outputs": [
        {
          "output_type": "execute_result",
          "data": {
            "text/plain": [
              "'Killmonger'"
            ],
            "application/vnd.google.colaboratory.intrinsic+json": {
              "type": "string"
            }
          },
          "metadata": {},
          "execution_count": 28
        }
      ]
    },
    {
      "cell_type": "code",
      "source": [
        "b"
      ],
      "metadata": {
        "colab": {
          "base_uri": "https://localhost:8080/",
          "height": 35
        },
        "id": "YFR5lujw0Yjx",
        "outputId": "88b2bec5-6e0e-4722-f905-c6937199c639"
      },
      "execution_count": 29,
      "outputs": [
        {
          "output_type": "execute_result",
          "data": {
            "text/plain": [
              "'Mogre'"
            ],
            "application/vnd.google.colaboratory.intrinsic+json": {
              "type": "string"
            }
          },
          "metadata": {},
          "execution_count": 29
        }
      ]
    },
    {
      "cell_type": "markdown",
      "source": [],
      "metadata": {
        "id": "q6XF-ty62G6e"
      }
    },
    {
      "cell_type": "code",
      "source": [
        "details = \"Killmonger.Mogre.is.5th.fail.by.34,95%\"\n",
        "details.split(\".\")                                               #.split function\n",
        "                                                                #it seperates all the strings with \".\""
      ],
      "metadata": {
        "colab": {
          "base_uri": "https://localhost:8080/"
        },
        "id": "KECrS07z1Fh9",
        "outputId": "392a1ae6-f6c8-4b1e-c25b-6e21b59e2800"
      },
      "execution_count": 39,
      "outputs": [
        {
          "output_type": "execute_result",
          "data": {
            "text/plain": [
              "['Killmonger', 'Mogre', 'is', '5th', 'fail', 'by', '34,95%']"
            ]
          },
          "metadata": {},
          "execution_count": 39
        }
      ]
    },
    {
      "cell_type": "code",
      "source": [
        "match_details= \"AA,BB,11,22\"                    #here i givn a string and seperated it by \",\"\n",
        "match_details.split(\",\")"
      ],
      "metadata": {
        "colab": {
          "base_uri": "https://localhost:8080/"
        },
        "id": "eSMXH2Hg0aCT",
        "outputId": "66d94cf3-692e-48d8-ef5d-228bb0c33f56"
      },
      "execution_count": 49,
      "outputs": [
        {
          "output_type": "execute_result",
          "data": {
            "text/plain": [
              "['AA', 'BB', '11', '22']"
            ]
          },
          "metadata": {},
          "execution_count": 49
        }
      ]
    },
    {
      "cell_type": "code",
      "source": [
        "ind,pak= match_details.split(\",\")[0:2]\n",
        "print(ind,pak)                              #for the"
      ],
      "metadata": {
        "colab": {
          "base_uri": "https://localhost:8080/"
        },
        "id": "ld3Gu4wB7Inx",
        "outputId": "329fd349-6735-488c-97f1-fdd4e49786ac"
      },
      "execution_count": 59,
      "outputs": [
        {
          "output_type": "stream",
          "name": "stdout",
          "text": [
            "AA BB\n"
          ]
        }
      ]
    },
    {
      "cell_type": "code",
      "source": [
        "ind"
      ],
      "metadata": {
        "colab": {
          "base_uri": "https://localhost:8080/",
          "height": 35
        },
        "id": "APMrLQ7M77wX",
        "outputId": "c77b9d56-732f-40a2-b936-e9a718d8a3d0"
      },
      "execution_count": 60,
      "outputs": [
        {
          "output_type": "execute_result",
          "data": {
            "text/plain": [
              "'AA'"
            ],
            "application/vnd.google.colaboratory.intrinsic+json": {
              "type": "string"
            }
          },
          "metadata": {},
          "execution_count": 60
        }
      ]
    },
    {
      "cell_type": "code",
      "source": [
        "pak"
      ],
      "metadata": {
        "colab": {
          "base_uri": "https://localhost:8080/",
          "height": 35
        },
        "id": "B0lK0esg-2VJ",
        "outputId": "6ea2828b-2e73-49c6-bbd0-5bf99384626a"
      },
      "execution_count": 61,
      "outputs": [
        {
          "output_type": "execute_result",
          "data": {
            "text/plain": [
              "'BB'"
            ],
            "application/vnd.google.colaboratory.intrinsic+json": {
              "type": "string"
            }
          },
          "metadata": {},
          "execution_count": 61
        }
      ]
    },
    {
      "cell_type": "code",
      "source": [
        "match_details= \"AA,BB,11,22\"\n",
        "match_details.replace(\",\",\":\")     #.replace(\"replace from\" , \"replace to \")"
      ],
      "metadata": {
        "colab": {
          "base_uri": "https://localhost:8080/",
          "height": 35
        },
        "id": "QGuB1alhAL--",
        "outputId": "3a5b5ed7-5a3d-4339-9e07-84ca8581f354"
      },
      "execution_count": 66,
      "outputs": [
        {
          "output_type": "execute_result",
          "data": {
            "text/plain": [
              "'AA:BB:11:22'"
            ],
            "application/vnd.google.colaboratory.intrinsic+json": {
              "type": "string"
            }
          },
          "metadata": {},
          "execution_count": 66
        }
      ]
    },
    {
      "cell_type": "code",
      "source": [
        "x=['Killmonger', 'Mogre', 'is', '5th', 'fail', 'by', '34,95%']\n",
        "y=','.join(x)                              #here we are joining the seperated list\n",
        "y                                          # 'saperating symbol'.joint(variable)"
      ],
      "metadata": {
        "colab": {
          "base_uri": "https://localhost:8080/",
          "height": 35
        },
        "id": "DW9C5535A20Q",
        "outputId": "fba12e88-baee-4adb-9380-68b6aaf93cef"
      },
      "execution_count": 67,
      "outputs": [
        {
          "output_type": "execute_result",
          "data": {
            "text/plain": [
              "'Killmonger,Mogre,is,5th,fail,by,34,95%'"
            ],
            "application/vnd.google.colaboratory.intrinsic+json": {
              "type": "string"
            }
          },
          "metadata": {},
          "execution_count": 67
        }
      ]
    },
    {
      "cell_type": "code",
      "source": [
        "match_details= \"AA,BB,11,22\"\n",
        "len(match_details)"
      ],
      "metadata": {
        "colab": {
          "base_uri": "https://localhost:8080/"
        },
        "id": "295QsvYXCB5J",
        "outputId": "80649a3a-1e23-4992-b1bf-f758c9c97697"
      },
      "execution_count": 64,
      "outputs": [
        {
          "output_type": "execute_result",
          "data": {
            "text/plain": [
              "11"
            ]
          },
          "metadata": {},
          "execution_count": 64
        }
      ]
    },
    {
      "cell_type": "code",
      "source": [
        "ind,pak= match_details.split(\",\")[2:4]\n",
        "print(ind,pak)"
      ],
      "metadata": {
        "colab": {
          "base_uri": "https://localhost:8080/"
        },
        "id": "DJ1AMX-j-4ws",
        "outputId": "f97fe034-63a1-424e-d414-60e5aa659293"
      },
      "execution_count": 68,
      "outputs": [
        {
          "output_type": "stream",
          "name": "stdout",
          "text": [
            "11 22\n"
          ]
        }
      ]
    },
    {
      "cell_type": "markdown",
      "source": [
        "REGULAR EXPRESSION"
      ],
      "metadata": {
        "id": "ezuOrkLSDkgQ"
      }
    },
    {
      "cell_type": "code",
      "execution_count": 70,
      "metadata": {
        "colab": {
          "base_uri": "https://localhost:8080/"
        },
        "id": "wbeXRrqhsBa1",
        "outputId": "d780209d-04aa-47a3-e62e-595dcceff8b7"
      },
      "outputs": [
        {
          "output_type": "execute_result",
          "data": {
            "text/plain": [
              "True"
            ]
          },
          "metadata": {},
          "execution_count": 70
        }
      ],
      "source": [
        "c_name= \"Kya bolte gangsters\"\n",
        "'Kya' in c_name\n"
      ]
    },
    {
      "cell_type": "code",
      "source": [
        "import re\n",
        "name = \"Kaillmonger Mogre\"\n",
        "x= re.findall(\"[a-m]\",name)\n",
        "x"
      ],
      "metadata": {
        "colab": {
          "base_uri": "https://localhost:8080/"
        },
        "id": "kvlrYBDrsXPG",
        "outputId": "ec60a322-f946-4f6f-86c2-58151b1d9ecf"
      },
      "execution_count": 81,
      "outputs": [
        {
          "output_type": "execute_result",
          "data": {
            "text/plain": [
              "['a', 'i', 'l', 'l', 'm', 'g', 'e', 'g', 'e']"
            ]
          },
          "metadata": {},
          "execution_count": 81
        }
      ]
    },
    {
      "cell_type": "code",
      "source": [
        "import re\n",
        "abhi = \"Killmonger Mogre is no 1, 2, 3, 3\"\n",
        "y= re.findall(\"[0-2]\",abhi)                     #it also prints duplicate values\n",
        "y"
      ],
      "metadata": {
        "colab": {
          "base_uri": "https://localhost:8080/"
        },
        "id": "RsFtvJxrsqAE",
        "outputId": "f1bc2f2e-8e4b-45e9-d20f-b48049521971"
      },
      "execution_count": 82,
      "outputs": [
        {
          "output_type": "execute_result",
          "data": {
            "text/plain": [
              "['1', '2']"
            ]
          },
          "metadata": {},
          "execution_count": 82
        }
      ]
    },
    {
      "cell_type": "code",
      "source": [
        "import re\n",
        "txt = \"hello heeeo hewlo world\"\n",
        "x = re.findall(\"he..o\", txt)\n",
        "x"
      ],
      "metadata": {
        "colab": {
          "base_uri": "https://localhost:8080/"
        },
        "id": "Q0T0V9O1EABl",
        "outputId": "cdbc9b6d-2998-4741-9fab-62e2615b90d4"
      },
      "execution_count": 84,
      "outputs": [
        {
          "output_type": "execute_result",
          "data": {
            "text/plain": [
              "['hello', 'heeeo', 'hewlo']"
            ]
          },
          "metadata": {},
          "execution_count": 84
        }
      ]
    },
    {
      "cell_type": "markdown",
      "source": [
        "Start with start"
      ],
      "metadata": {
        "id": "LIcKlFKLMuQZ"
      }
    },
    {
      "cell_type": "code",
      "source": [
        "import re\n",
        "txt ='starts at the end'\n",
        "x = re.findall(\"^start\", txt)          #if the starting word of string contains \"^\" symbol then only it will print the starting word\n",
        "x\n"
      ],
      "metadata": {
        "colab": {
          "base_uri": "https://localhost:8080/"
        },
        "id": "2AubsyvVFOxf",
        "outputId": "69c5da3a-e356-4cd8-f4f1-db57c3456345"
      },
      "execution_count": 90,
      "outputs": [
        {
          "output_type": "execute_result",
          "data": {
            "text/plain": [
              "['start']"
            ]
          },
          "metadata": {},
          "execution_count": 90
        }
      ]
    },
    {
      "cell_type": "code",
      "source": [
        "import re\n",
        "txt ='middle starts hai'\n",
        "x = re.findall(\"^start\", txt)\n",
        "x\n"
      ],
      "metadata": {
        "colab": {
          "base_uri": "https://localhost:8080/"
        },
        "id": "4ZImTQaJHZq0",
        "outputId": "ee298625-1539-408e-9b32-802e2c7e65ed"
      },
      "execution_count": 91,
      "outputs": [
        {
          "output_type": "execute_result",
          "data": {
            "text/plain": [
              "[]"
            ]
          },
          "metadata": {},
          "execution_count": 91
        }
      ]
    },
    {
      "cell_type": "code",
      "source": [
        "import re\n",
        "txt ='end is start'\n",
        "x = re.findall(\"^start\", txt)\n",
        "x\n"
      ],
      "metadata": {
        "colab": {
          "base_uri": "https://localhost:8080/"
        },
        "id": "BWq6nKBVJtw3",
        "outputId": "8fd6463c-bc4d-4abf-e80f-26073c445b8e"
      },
      "execution_count": 92,
      "outputs": [
        {
          "output_type": "execute_result",
          "data": {
            "text/plain": [
              "[]"
            ]
          },
          "metadata": {},
          "execution_count": 92
        }
      ]
    },
    {
      "cell_type": "markdown",
      "source": [
        "End with end"
      ],
      "metadata": {
        "id": "K_DVrmq2NGE4"
      }
    },
    {
      "cell_type": "code",
      "source": [
        "import re\n",
        "txt ='start at end'                #if the ending word of string contains \"$\" symbol then only it will print the ending word\n",
        "x = re.findall(\"end$\", txt)\n",
        "x\n"
      ],
      "metadata": {
        "colab": {
          "base_uri": "https://localhost:8080/"
        },
        "id": "pctzLw_ZJtqz",
        "outputId": "a719e6c8-f36a-4e36-d33f-eac3fedf4947"
      },
      "execution_count": 97,
      "outputs": [
        {
          "output_type": "execute_result",
          "data": {
            "text/plain": [
              "['end']"
            ]
          },
          "metadata": {},
          "execution_count": 97
        }
      ]
    },
    {
      "cell_type": "code",
      "source": [
        "txt ='middle starts hai'\n",
        "x = re.findall(\"end$\", txt)\n",
        "x"
      ],
      "metadata": {
        "colab": {
          "base_uri": "https://localhost:8080/"
        },
        "id": "d-NeUh_uL8Tt",
        "outputId": "f96d1fed-0a36-4efe-e8e3-0d5fd554404a"
      },
      "execution_count": 98,
      "outputs": [
        {
          "output_type": "execute_result",
          "data": {
            "text/plain": [
              "[]"
            ]
          },
          "metadata": {},
          "execution_count": 98
        }
      ]
    },
    {
      "cell_type": "code",
      "source": [
        "txt ='end is start'\n",
        "x = re.findall(\"end$\", txt)\n",
        "x"
      ],
      "metadata": {
        "colab": {
          "base_uri": "https://localhost:8080/"
        },
        "id": "dBjglmkpL_rR",
        "outputId": "db1dea56-a749-4144-84ae-79c3d5920ae7"
      },
      "execution_count": 99,
      "outputs": [
        {
          "output_type": "execute_result",
          "data": {
            "text/plain": [
              "[]"
            ]
          },
          "metadata": {},
          "execution_count": 99
        }
      ]
    },
    {
      "cell_type": "code",
      "source": [
        "import re\n",
        "txt = \"ai,aii,aix,aix,aixx\"\n",
        "x = re.findall(\"aix*\", txt)                           #it shows the repeated no of ai\n",
        "x"
      ],
      "metadata": {
        "colab": {
          "base_uri": "https://localhost:8080/"
        },
        "id": "5zS9CXzxNzLV",
        "outputId": "4cb8a0ae-b4b3-4804-f003-b8d8e7a61396"
      },
      "execution_count": 105,
      "outputs": [
        {
          "output_type": "execute_result",
          "data": {
            "text/plain": [
              "['ai', 'ai', 'aix', 'aix', 'aixx']"
            ]
          },
          "metadata": {},
          "execution_count": 105
        }
      ]
    },
    {
      "cell_type": "code",
      "source": [
        "import re\n",
        "txt = \"ai,aii,aix,aix,aixx\"\n",
        "x = re.findall(\"aix+\", txt)                           #it shows the repeated no of 'ai'\n",
        "x"
      ],
      "metadata": {
        "colab": {
          "base_uri": "https://localhost:8080/"
        },
        "id": "OpP4NLOJN2dk",
        "outputId": "0d7b58d9-d670-4362-ee9c-75767ac6f9a2"
      },
      "execution_count": 106,
      "outputs": [
        {
          "output_type": "execute_result",
          "data": {
            "text/plain": [
              "['aix', 'aix', 'aixx']"
            ]
          },
          "metadata": {},
          "execution_count": 106
        }
      ]
    },
    {
      "cell_type": "code",
      "source": [
        "import re\n",
        "txt = 'The cow said moo mooo moooo'\n",
        "x = re.findall(\"mo{2}\", txt)                 #here we are finding 2 'o' characters\n",
        "x"
      ],
      "metadata": {
        "colab": {
          "base_uri": "https://localhost:8080/"
        },
        "id": "I5snQqi4OVc4",
        "outputId": "d270e823-bf1f-494b-e026-d9e43d109cbf"
      },
      "execution_count": 108,
      "outputs": [
        {
          "output_type": "execute_result",
          "data": {
            "text/plain": [
              "['moo', 'moo', 'moo']"
            ]
          },
          "metadata": {},
          "execution_count": 108
        }
      ]
    },
    {
      "cell_type": "code",
      "source": [
        "import re\n",
        "txt = \"The Avengers are earths mightiest heroes\"\n",
        "x = re.findall(\"avengers|heroes\", txt)        #here the or('|') operator is used\n",
        "x"
      ],
      "metadata": {
        "colab": {
          "base_uri": "https://localhost:8080/"
        },
        "id": "D_SqUpk0QpLM",
        "outputId": "354247e0-d96c-42ae-aed9-e06c4286fc5a"
      },
      "execution_count": 111,
      "outputs": [
        {
          "output_type": "execute_result",
          "data": {
            "text/plain": [
              "['heroes']"
            ]
          },
          "metadata": {},
          "execution_count": 111
        }
      ]
    },
    {
      "cell_type": "code",
      "source": [
        "txt = \"Is there whitespace\"\n",
        "x = re.findall(\"\\s\", txt)          #to find the no of spaces given in the string\n",
        "x\n",
        "for ' ' in text"
      ],
      "metadata": {
        "colab": {
          "base_uri": "https://localhost:8080/"
        },
        "id": "bEwJPoihRGqk",
        "outputId": "adb2fdbd-cd9e-42c4-ff4a-66c960145fd8"
      },
      "execution_count": 112,
      "outputs": [
        {
          "output_type": "execute_result",
          "data": {
            "text/plain": [
              "[' ', ' ']"
            ]
          },
          "metadata": {},
          "execution_count": 112
        }
      ]
    },
    {
      "cell_type": "markdown",
      "source": [
        "There are other special sequences that we can use, they are listed as follows:\n",
        "\n",
        "● \\A: This matches if the characters defined are at the beginning of the string \"\\AIt\"\n",
        "\n",
        "● \\b: This matches if the characters defined are at the beginning or at the end of a word\n",
        "\"\\bain\" r\"ain\\b\"\n",
        "\n",
        "● \\B Returns a match where the specified characters are present, but NOT at the beginning\n",
        "(or at the end) of a word (the \"r\" in the beginning is making sure that the string is being\n",
        "treated as a \"raw string\") r\"\\Bain\" r\"ain\\B\"\n",
        "\n",
        "● \\d Returns a match where the string contains digits (numbers from 0-9) \"\\d\"\n",
        "\n",
        "● \\D Returns a match where the string DOES NOT contain digits \"\\D\"\n"
      ],
      "metadata": {
        "id": "wYBNfHMdSIop"
      }
    },
    {
      "cell_type": "code",
      "source": [
        "import re\n",
        "name = \"My name is Mohit\"\n",
        "x= re.split(\"\\s\",name)\n",
        "x\n",
        "\n"
      ],
      "metadata": {
        "colab": {
          "base_uri": "https://localhost:8080/"
        },
        "id": "02BbKlsjRlZX",
        "outputId": "86af5cce-aae4-4859-ec3e-a98d2c5d7927"
      },
      "execution_count": 117,
      "outputs": [
        {
          "output_type": "execute_result",
          "data": {
            "text/plain": [
              "['My', 'name', 'is', 'Mohit']"
            ]
          },
          "metadata": {},
          "execution_count": 117
        }
      ]
    },
    {
      "cell_type": "code",
      "source": [
        "name = \"My name is Mohit\"\n",
        "x= re.split(\"\\s\",name, maxsplit=2)  #maxsplit help to define the no of splits in the given string\n",
        "x"
      ],
      "metadata": {
        "colab": {
          "base_uri": "https://localhost:8080/"
        },
        "id": "r6LS2Je_Szvg",
        "outputId": "9b410965-3081-4d7a-d844-99e0929d65b9"
      },
      "execution_count": 119,
      "outputs": [
        {
          "output_type": "execute_result",
          "data": {
            "text/plain": [
              "['My', 'name', 'is Mohit']"
            ]
          },
          "metadata": {},
          "execution_count": 119
        }
      ]
    },
    {
      "cell_type": "code",
      "source": [
        "import re\n",
        "txt = \"The rain in Spain\"\n",
        "x = re.sub(\"\\s\", \"9\", txt)\n",
        "x\n"
      ],
      "metadata": {
        "colab": {
          "base_uri": "https://localhost:8080/",
          "height": 35
        },
        "id": "31sX9Ra3TY1m",
        "outputId": "db8b7f95-7181-4a57-a8ae-08537194fecf"
      },
      "execution_count": 120,
      "outputs": [
        {
          "output_type": "execute_result",
          "data": {
            "text/plain": [
              "'The9rain9in9Spain'"
            ],
            "application/vnd.google.colaboratory.intrinsic+json": {
              "type": "string"
            }
          },
          "metadata": {},
          "execution_count": 120
        }
      ]
    },
    {
      "cell_type": "code",
      "source": [
        "import re\n",
        "txt = \"The rain in Spain\"\n",
        "x = re.sub(\"\\s\", \"9\", txt,1)     #(space , string to be added , string to be added IN , no of times)\n",
        "x"
      ],
      "metadata": {
        "colab": {
          "base_uri": "https://localhost:8080/",
          "height": 35
        },
        "id": "9ih9RiYvTtxZ",
        "outputId": "dfb408c0-ee16-4c26-f489-6c07c0bcb4b8"
      },
      "execution_count": 121,
      "outputs": [
        {
          "output_type": "execute_result",
          "data": {
            "text/plain": [
              "'The9rain in Spain'"
            ],
            "application/vnd.google.colaboratory.intrinsic+json": {
              "type": "string"
            }
          },
          "metadata": {},
          "execution_count": 121
        }
      ]
    },
    {
      "cell_type": "code",
      "source": [
        "import re\n",
        "txt = \"The rain in Spain\"\n",
        "x = re.sub(\"\\s\", \"9\", txt,2)     #(space , string to be added , string to be added IN , no of times)\n",
        "x"
      ],
      "metadata": {
        "id": "ZMpnGRSjUOX_"
      },
      "execution_count": null,
      "outputs": []
    },
    {
      "cell_type": "code",
      "source": [
        "import re\n",
        "txt = \"The rain in Spain\"\n",
        "x = re.sub(\"\\s\", \"9\", txt,3)     #(space , string to be added , string to be added IN , no of times)\n",
        "x"
      ],
      "metadata": {
        "colab": {
          "base_uri": "https://localhost:8080/",
          "height": 35
        },
        "id": "Qlg5vxKAUPY9",
        "outputId": "3280aefd-360b-4679-cd53-1158be1ad17b"
      },
      "execution_count": 122,
      "outputs": [
        {
          "output_type": "execute_result",
          "data": {
            "text/plain": [
              "'The9rain9in9Spain'"
            ],
            "application/vnd.google.colaboratory.intrinsic+json": {
              "type": "string"
            }
          },
          "metadata": {},
          "execution_count": 122
        }
      ]
    },
    {
      "cell_type": "code",
      "source": [
        "import re\n",
        "txt = \"The rain in Spain\"\n",
        "x = re.search(\"ai\", txt)      #showing tha range two \"ai\"\n",
        "x"
      ],
      "metadata": {
        "colab": {
          "base_uri": "https://localhost:8080/"
        },
        "id": "A2kGmLjLUZTg",
        "outputId": "c51b4b9f-2129-458a-994c-3012156d7caa"
      },
      "execution_count": 130,
      "outputs": [
        {
          "output_type": "execute_result",
          "data": {
            "text/plain": [
              "<re.Match object; span=(5, 7), match='ai'>"
            ]
          },
          "metadata": {},
          "execution_count": 130
        }
      ]
    },
    {
      "cell_type": "code",
      "source": [
        "txt = \"The mohit in Spain\"\n",
        "x = re.search(\"mohit\", txt)       #showing the range of specific string\n",
        "print(x)"
      ],
      "metadata": {
        "colab": {
          "base_uri": "https://localhost:8080/"
        },
        "id": "1HqXlxtuWgrU",
        "outputId": "b6e0c84c-0a9b-448c-93e3-e06d9e33b177"
      },
      "execution_count": 131,
      "outputs": [
        {
          "output_type": "stream",
          "name": "stdout",
          "text": [
            "<re.Match object; span=(4, 9), match='mohit'>\n"
          ]
        }
      ]
    }
  ]
}