{
  "nbformat": 4,
  "nbformat_minor": 0,
  "metadata": {
    "colab": {
      "provenance": []
    },
    "kernelspec": {
      "name": "python3",
      "display_name": "Python 3"
    },
    "language_info": {
      "name": "python"
    }
  },
  "cells": [
    {
      "cell_type": "code",
      "execution_count": 1,
      "metadata": {
        "colab": {
          "base_uri": "https://localhost:8080/"
        },
        "id": "XxTk3q-k4gp3",
        "outputId": "e70f779f-3212-4f33-de36-16fdbf1a9180"
      },
      "outputs": [
        {
          "output_type": "execute_result",
          "data": {
            "text/plain": [
              "[['mohit', 34, 19], ['harshal', 27, 29], ['ayush', 22, 18], ['bhabes', 23, 20]]"
            ]
          },
          "metadata": {},
          "execution_count": 1
        }
      ],
      "source": [
        "list=[]\n",
        "element0=[\"mohit\",34,19]\n",
        "list.append(element0)\n",
        "element1=[\"harshal\",27,29]\n",
        "list.append(element1)\n",
        "element2=[\"ayush\",22,18]\n",
        "list.append(element2)\n",
        "element3=[\"bhabes\",23,20]\n",
        "list.append(element3)\n",
        "list"
      ]
    },
    {
      "cell_type": "code",
      "source": [
        "list[2][1]     #accessing the specific element inside list of lists\n"
      ],
      "metadata": {
        "colab": {
          "base_uri": "https://localhost:8080/"
        },
        "id": "4vwHEk2g4lxl",
        "outputId": "adae8a71-a769-418b-90db-4ac22150d748"
      },
      "execution_count": 3,
      "outputs": [
        {
          "output_type": "execute_result",
          "data": {
            "text/plain": [
              "22"
            ]
          },
          "metadata": {},
          "execution_count": 3
        }
      ]
    },
    {
      "cell_type": "code",
      "source": [
        "people = []                       # Made a list\n",
        "person = [\"Tony\", \"Stark\",48]\n",
        "people.append(person)             #appending (adding) the lists\n",
        "person = [\"Steve\",\"Rodgers\",102]\n",
        "people.append(person)\n",
        "person = [\"Stephen\", \"Strange\",42]\n",
        "people.append(person)\n",
        "person = [\"Natasha\",\"Romanof\",36]\n",
        "people.append(person)\n",
        "person = [\"Peter\",\"Parker\",16]\n",
        "people.append(person)\n",
        "people"
      ],
      "metadata": {
        "colab": {
          "base_uri": "https://localhost:8080/"
        },
        "id": "Hkd1lvCxM4rZ",
        "outputId": "5845a031-a93b-4bed-8843-0f59da7f9206"
      },
      "execution_count": 9,
      "outputs": [
        {
          "output_type": "execute_result",
          "data": {
            "text/plain": [
              "[['Tony', 'Stark', 48],\n",
              " ['Steve', 'Rodgers', 102],\n",
              " ['Stephen', 'Strange', 42],\n",
              " ['Natasha', 'Romanof', 36],\n",
              " ['Peter', 'Parker', 16]]"
            ]
          },
          "metadata": {},
          "execution_count": 9
        }
      ]
    },
    {
      "cell_type": "code",
      "source": [
        "ages=[]\n",
        "total_age = 0.0\n",
        "for p in people:\n",
        "    age = p[2]\n",
        "    total_age += age\n",
        "#    ages.append(age)\n",
        "total_age\n",
        "#  ages\n"
      ],
      "metadata": {
        "colab": {
          "base_uri": "https://localhost:8080/"
        },
        "id": "KNRxz1Qo5HT2",
        "outputId": "0db646cc-a3bd-437a-b548-ee4c8f851fb4"
      },
      "execution_count": 10,
      "outputs": [
        {
          "output_type": "execute_result",
          "data": {
            "text/plain": [
              "244.0"
            ]
          },
          "metadata": {},
          "execution_count": 10
        }
      ]
    },
    {
      "cell_type": "markdown",
      "source": [
        "Sets"
      ],
      "metadata": {
        "id": "DVVQg-zODpMu"
      }
    },
    {
      "cell_type": "code",
      "source": [
        "squared_ages = []\n",
        "for p in people:\n",
        "    squared_age = p[2] * p[2]\n",
        "    squared_ages.append(squared_age)\n",
        "squared_ages"
      ],
      "metadata": {
        "colab": {
          "base_uri": "https://localhost:8080/"
        },
        "id": "uRRvZj7A-HgP",
        "outputId": "0e6af480-d166-4061-ae5b-1d3b071b095e"
      },
      "execution_count": 13,
      "outputs": [
        {
          "output_type": "execute_result",
          "data": {
            "text/plain": [
              "[2304, 10404, 1764, 1296, 256]"
            ]
          },
          "metadata": {},
          "execution_count": 13
        }
      ]
    },
    {
      "cell_type": "code",
      "source": [
        "\n",
        "# we can write this in one line\n",
        "squared_ages = [p[2] * p[2] for p in people]\n",
        "squared_ages"
      ],
      "metadata": {
        "colab": {
          "base_uri": "https://localhost:8080/"
        },
        "id": "OQaz_3sNNP43",
        "outputId": "02bb1580-fc13-4daf-d20f-ab65fdfc584d"
      },
      "execution_count": 14,
      "outputs": [
        {
          "output_type": "execute_result",
          "data": {
            "text/plain": [
              "[2304, 10404, 1764, 1296, 256]"
            ]
          },
          "metadata": {},
          "execution_count": 14
        }
      ]
    },
    {
      "cell_type": "code",
      "source": [
        "person = {\"first_name\":\"Steve\", \"last_name\":\"Rodgers\", \"age\":102}\n",
        "person_list = []\n",
        "for p in person:\n",
        "    person_list.append(p)\n",
        "person_list"
      ],
      "metadata": {
        "colab": {
          "base_uri": "https://localhost:8080/"
        },
        "id": "C0J6oQeeNQs-",
        "outputId": "a407a802-d09f-4e86-b626-8360f20f4260"
      },
      "execution_count": 16,
      "outputs": [
        {
          "output_type": "execute_result",
          "data": {
            "text/plain": [
              "['first_name', 'last_name', 'age']"
            ]
          },
          "metadata": {},
          "execution_count": 16
        }
      ]
    },
    {
      "cell_type": "code",
      "source": [
        "person = {\"first_name\":\"Steve\", \"last_name\":\"Rodgers\", \"age\":102}\n",
        "person_list = []\n",
        "for p in person:\n",
        "    value = person[p]\n",
        "    person_list.append(value)\n",
        "person_list"
      ],
      "metadata": {
        "colab": {
          "base_uri": "https://localhost:8080/"
        },
        "id": "bBtUceOENTvg",
        "outputId": "9e91a364-7f48-4d9b-880d-2dfb442e881f"
      },
      "execution_count": 15,
      "outputs": [
        {
          "output_type": "execute_result",
          "data": {
            "text/plain": [
              "['Steve', 'Rodgers', 102]"
            ]
          },
          "metadata": {},
          "execution_count": 15
        }
      ]
    },
    {
      "cell_type": "code",
      "source": [
        "name =\"Rob Mastrodomenico\"\n",
        "name_list = []\n",
        "for n in name:\n",
        "    name_list.append(n)\n",
        "print(name_list)"
      ],
      "metadata": {
        "colab": {
          "base_uri": "https://localhost:8080/"
        },
        "id": "tawZ0anqNmiZ",
        "outputId": "ac67872a-d66a-47cd-9b82-ad37bc2f6b29"
      },
      "execution_count": 18,
      "outputs": [
        {
          "output_type": "stream",
          "name": "stdout",
          "text": [
            "['R', 'o', 'b', ' ', 'M', 'a', 's', 't', 'r', 'o', 'd', 'o', 'm', 'e', 'n', 'i', 'c', 'o']\n"
          ]
        }
      ]
    }
  ]
}