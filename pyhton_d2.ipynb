{
  "nbformat": 4,
  "nbformat_minor": 0,
  "metadata": {
    "colab": {
      "provenance": []
    },
    "kernelspec": {
      "name": "python3",
      "display_name": "Python 3"
    },
    "language_info": {
      "name": "python"
    }
  },
  "cells": [
    {
      "cell_type": "markdown",
      "source": [
        "LIST\n",
        "> They are mutable or changable"
      ],
      "metadata": {
        "id": "lf-IiFOl2vp6"
      }
    },
    {
      "cell_type": "code",
      "source": [
        "x = [1,2,3,4,5]\n",
        "x"
      ],
      "metadata": {
        "colab": {
          "base_uri": "https://localhost:8080/"
        },
        "id": "F6rceLwz3P0i",
        "outputId": "ef1a720a-3de9-48a8-8555-658e60d35fd3"
      },
      "execution_count": null,
      "outputs": [
        {
          "output_type": "execute_result",
          "data": {
            "text/plain": [
              "[1, 2, 3, 4, 5]"
            ]
          },
          "metadata": {},
          "execution_count": 15
        }
      ]
    },
    {
      "cell_type": "code",
      "source": [
        "y = [\"Aa\",\"Bb\",\"Cc\"]\n",
        "y"
      ],
      "metadata": {
        "colab": {
          "base_uri": "https://localhost:8080/"
        },
        "id": "cNzE1OSz3wS6",
        "outputId": "8322e1b6-3051-47a7-80f1-fba12aedb72c"
      },
      "execution_count": null,
      "outputs": [
        {
          "output_type": "execute_result",
          "data": {
            "text/plain": [
              "['Aa', 'Bb', 'Cc']"
            ]
          },
          "metadata": {},
          "execution_count": 16
        }
      ]
    },
    {
      "cell_type": "code",
      "source": [
        "z = x + y\n",
        "x"
      ],
      "metadata": {
        "colab": {
          "base_uri": "https://localhost:8080/"
        },
        "id": "2ppiZTg84ush",
        "outputId": "0235a781-50df-453e-90bd-2f6ad4e888fa"
      },
      "execution_count": null,
      "outputs": [
        {
          "output_type": "execute_result",
          "data": {
            "text/plain": [
              "[1, 2, 3, 4, 5]"
            ]
          },
          "metadata": {},
          "execution_count": 17
        }
      ]
    },
    {
      "cell_type": "code",
      "source": [
        "c = [\"mohit\",\"ayush\",\"harshal\",\"sunni\",\"rajat\"]\n",
        "c"
      ],
      "metadata": {
        "colab": {
          "base_uri": "https://localhost:8080/"
        },
        "id": "ldX0VuAk5O1D",
        "outputId": "4309081c-7681-4cc9-cb3c-76b714a2ab86"
      },
      "execution_count": null,
      "outputs": [
        {
          "output_type": "execute_result",
          "data": {
            "text/plain": [
              "['mohit', 'ayush', 'harshal', 'sunni', 'rajat']"
            ]
          },
          "metadata": {},
          "execution_count": 18
        }
      ]
    },
    {
      "cell_type": "code",
      "source": [
        "\n",
        "a = \"Moghre\"\n",
        "b = 18                                                 #it shows the mutablity or changablity of list\n",
        "c = [\"ayush\",\"harshal\",a,b,\"mohit\",\"sunni\",\"rajat\"]\n",
        "c"
      ],
      "metadata": {
        "colab": {
          "base_uri": "https://localhost:8080/"
        },
        "id": "5yF65aQD7T-9",
        "outputId": "9881248e-42ef-4493-eb3f-9b9f8cf9c7d5"
      },
      "execution_count": null,
      "outputs": [
        {
          "output_type": "execute_result",
          "data": {
            "text/plain": [
              "['ayush', 'harshal', 'Moghre', 18, 'mohit', 'sunni', 'rajat']"
            ]
          },
          "metadata": {},
          "execution_count": 19
        }
      ]
    },
    {
      "cell_type": "code",
      "source": [
        "rajju_gang =[\"chotu\",\"dholu\",\"bholu\"]\n",
        "samay_gang =[\"sunni\",\"aslam\",\"salman\"]\n",
        "stupal_gang =[rajju_gang,samay_gang]\n",
        "stupal_gang                                  #addition of two lists\n",
        "\n",
        "\n"
      ],
      "metadata": {
        "colab": {
          "base_uri": "https://localhost:8080/"
        },
        "id": "4Ecx0iRM7uUm",
        "outputId": "52950a25-8968-4863-bcb1-0b4ebda12700"
      },
      "execution_count": null,
      "outputs": [
        {
          "output_type": "execute_result",
          "data": {
            "text/plain": [
              "[['chotu', 'dholu', 'bholu'], ['sunni', 'aslam', 'salman']]"
            ]
          },
          "metadata": {},
          "execution_count": 20
        }
      ]
    },
    {
      "cell_type": "code",
      "source": [
        "samay_gang =[\"sunni\",\"aslam\",\"salman\"]\n",
        "samay_gang[2]         #indexing"
      ],
      "metadata": {
        "colab": {
          "base_uri": "https://localhost:8080/",
          "height": 36
        },
        "id": "O8Tl37W_-lgF",
        "outputId": "1eb5246f-5485-48dc-e258-c32231828778"
      },
      "execution_count": null,
      "outputs": [
        {
          "output_type": "execute_result",
          "data": {
            "text/plain": [
              "'salman'"
            ],
            "application/vnd.google.colaboratory.intrinsic+json": {
              "type": "string"
            }
          },
          "metadata": {},
          "execution_count": 21
        }
      ]
    },
    {
      "cell_type": "code",
      "source": [
        "samay_gang =[\"sunni\",\"aslam\",\"salman\"]\n",
        "samay_gang.pop(2)\n",
        "samay_gang"
      ],
      "metadata": {
        "colab": {
          "base_uri": "https://localhost:8080/"
        },
        "id": "X9NrunbXBNUq",
        "outputId": "d499ec6b-f222-4774-b3a5-d04186b3f3d5"
      },
      "execution_count": null,
      "outputs": [
        {
          "output_type": "execute_result",
          "data": {
            "text/plain": [
              "['sunni', 'aslam']"
            ]
          },
          "metadata": {},
          "execution_count": 22
        }
      ]
    },
    {
      "cell_type": "code",
      "source": [
        "rajju_gang =[\"chotu\",\"dholu\",\"bholu\"]\n",
        "rajju_gang.append(2)\n",
        "rajju_gang\n",
        "\n"
      ],
      "metadata": {
        "colab": {
          "base_uri": "https://localhost:8080/"
        },
        "id": "NXUkJ_K_Ba9z",
        "outputId": "ddc985bc-e603-4930-fb71-8710932a140d"
      },
      "execution_count": null,
      "outputs": [
        {
          "output_type": "execute_result",
          "data": {
            "text/plain": [
              "['chotu', 'dholu', 'bholu', 2]"
            ]
          },
          "metadata": {},
          "execution_count": 23
        }
      ]
    },
    {
      "cell_type": "code",
      "source": [
        "rajju_gang.remove(2)\n",
        "rajju_gang"
      ],
      "metadata": {
        "colab": {
          "base_uri": "https://localhost:8080/"
        },
        "id": "oHEmbeXTCkAx",
        "outputId": "9300e3d2-7375-4d05-c695-c687b83f1fb4"
      },
      "execution_count": null,
      "outputs": [
        {
          "output_type": "execute_result",
          "data": {
            "text/plain": [
              "['chotu', 'dholu', 'bholu']"
            ]
          },
          "metadata": {},
          "execution_count": 24
        }
      ]
    },
    {
      "cell_type": "code",
      "source": [
        "x = [1,2,2,2,2,3,4,5,2,2]\n",
        "x.count(2)\n"
      ],
      "metadata": {
        "colab": {
          "base_uri": "https://localhost:8080/"
        },
        "id": "IA4CD3CZDLCE",
        "outputId": "d69a64f2-bc85-4fcf-cb79-fa472a7b0640"
      },
      "execution_count": null,
      "outputs": [
        {
          "output_type": "execute_result",
          "data": {
            "text/plain": [
              "6"
            ]
          },
          "metadata": {},
          "execution_count": 25
        }
      ]
    },
    {
      "cell_type": "code",
      "source": [
        "x = [1,2,2,2,2,3,4,5,2,2,1]\n",
        "x.reverse()\n",
        "x\n"
      ],
      "metadata": {
        "colab": {
          "base_uri": "https://localhost:8080/"
        },
        "id": "L1Fv7lp6Domc",
        "outputId": "bd7a53f4-1959-4a0a-a8c0-d15b3956cb41"
      },
      "execution_count": null,
      "outputs": [
        {
          "output_type": "execute_result",
          "data": {
            "text/plain": [
              "[1, 2, 2, 5, 4, 3, 2, 2, 2, 2, 1]"
            ]
          },
          "metadata": {},
          "execution_count": 26
        }
      ]
    },
    {
      "cell_type": "code",
      "source": [
        "x.sort()\n",
        "x"
      ],
      "metadata": {
        "colab": {
          "base_uri": "https://localhost:8080/"
        },
        "id": "lqG2N3SCD9Nz",
        "outputId": "48a508e4-b55d-42d7-c8c8-e68a76c35b69"
      },
      "execution_count": null,
      "outputs": [
        {
          "output_type": "execute_result",
          "data": {
            "text/plain": [
              "[1, 1, 2, 2, 2, 2, 2, 2, 3, 4, 5]"
            ]
          },
          "metadata": {},
          "execution_count": 27
        }
      ]
    },
    {
      "cell_type": "code",
      "source": [
        "c.sort()                 #limitation of sort function\n",
        "c"
      ],
      "metadata": {
        "colab": {
          "base_uri": "https://localhost:8080/",
          "height": 158
        },
        "id": "Pzek0NlqERb5",
        "outputId": "ac6a7067-33e7-4966-d685-1049df69ec22"
      },
      "execution_count": null,
      "outputs": [
        {
          "output_type": "error",
          "ename": "TypeError",
          "evalue": "'<' not supported between instances of 'int' and 'str'",
          "traceback": [
            "\u001b[0;31m---------------------------------------------------------------------------\u001b[0m",
            "\u001b[0;31mTypeError\u001b[0m                                 Traceback (most recent call last)",
            "\u001b[0;32m<ipython-input-28-35d49540dc8f>\u001b[0m in \u001b[0;36m<cell line: 1>\u001b[0;34m()\u001b[0m\n\u001b[0;32m----> 1\u001b[0;31m \u001b[0mc\u001b[0m\u001b[0;34m.\u001b[0m\u001b[0msort\u001b[0m\u001b[0;34m(\u001b[0m\u001b[0;34m)\u001b[0m                 \u001b[0;31m#limitation of sort function\u001b[0m\u001b[0;34m\u001b[0m\u001b[0;34m\u001b[0m\u001b[0m\n\u001b[0m\u001b[1;32m      2\u001b[0m \u001b[0mc\u001b[0m\u001b[0;34m\u001b[0m\u001b[0;34m\u001b[0m\u001b[0m\n",
            "\u001b[0;31mTypeError\u001b[0m: '<' not supported between instances of 'int' and 'str'"
          ]
        }
      ]
    },
    {
      "cell_type": "code",
      "source": [
        "samay_gang =[\"sunni\",\"aslam\",\"salman\"]\n",
        "\"aslam\" in samay_gang"
      ],
      "metadata": {
        "colab": {
          "base_uri": "https://localhost:8080/"
        },
        "id": "kKJU-VTsEjMf",
        "outputId": "94c13329-bde3-4f4f-f56a-ec9a69f33ed1"
      },
      "execution_count": null,
      "outputs": [
        {
          "output_type": "execute_result",
          "data": {
            "text/plain": [
              "True"
            ]
          },
          "metadata": {},
          "execution_count": 29
        }
      ]
    },
    {
      "cell_type": "code",
      "source": [
        "samay_gang =[\"sunni\",\"aslam\",\"salman\"]\n",
        "\"harshal\" in samay_gang"
      ],
      "metadata": {
        "colab": {
          "base_uri": "https://localhost:8080/"
        },
        "id": "NGBasDSFGbNU",
        "outputId": "bb11f1a9-92e2-4c5e-fca2-421c17c45a1d"
      },
      "execution_count": null,
      "outputs": [
        {
          "output_type": "execute_result",
          "data": {
            "text/plain": [
              "False"
            ]
          },
          "metadata": {},
          "execution_count": 30
        }
      ]
    },
    {
      "cell_type": "code",
      "source": [
        "q=[1,2,7,3,4,5,9,2,11]\n",
        "new_q= q[1:]\n",
        "new_q"
      ],
      "metadata": {
        "colab": {
          "base_uri": "https://localhost:8080/"
        },
        "id": "VOPdwV8fGldn",
        "outputId": "ec40527e-bba6-4779-82df-1d131e38742c"
      },
      "execution_count": null,
      "outputs": [
        {
          "output_type": "execute_result",
          "data": {
            "text/plain": [
              "[2, 7, 3, 4, 5, 9, 2, 11]"
            ]
          },
          "metadata": {},
          "execution_count": 31
        }
      ]
    },
    {
      "cell_type": "code",
      "source": [
        "new_q= q[-1:]\n",
        "new_q"
      ],
      "metadata": {
        "colab": {
          "base_uri": "https://localhost:8080/"
        },
        "id": "BCXbgk5eHnzS",
        "outputId": "9419240f-4690-412a-918a-5f912c7898e4"
      },
      "execution_count": null,
      "outputs": [
        {
          "output_type": "execute_result",
          "data": {
            "text/plain": [
              "[11]"
            ]
          },
          "metadata": {},
          "execution_count": 32
        }
      ]
    },
    {
      "cell_type": "code",
      "source": [
        "c = [\"mohit\",\"ayush\",\"harshal\",\"sunni\",\"rajat\"]\n",
        "c[1:6:2]                                       #[starting pt : ending pt : increment diff]"
      ],
      "metadata": {
        "colab": {
          "base_uri": "https://localhost:8080/"
        },
        "id": "3Qspe89tH6-s",
        "outputId": "01985abb-68ac-4b28-c236-5813ad75d0bb"
      },
      "execution_count": null,
      "outputs": [
        {
          "output_type": "execute_result",
          "data": {
            "text/plain": [
              "['ayush', 'sunni']"
            ]
          },
          "metadata": {},
          "execution_count": 33
        }
      ]
    },
    {
      "cell_type": "code",
      "source": [
        "x = range(1,7,2)\n",
        "x"
      ],
      "metadata": {
        "colab": {
          "base_uri": "https://localhost:8080/"
        },
        "id": "b7c7WwsyJCmR",
        "outputId": "3edcff7e-c359-481a-929f-d744e8c4e835"
      },
      "execution_count": null,
      "outputs": [
        {
          "output_type": "execute_result",
          "data": {
            "text/plain": [
              "range(1, 7, 2)"
            ]
          },
          "metadata": {},
          "execution_count": 34
        }
      ]
    },
    {
      "cell_type": "markdown",
      "source": [
        "TUPLE\n",
        "\n",
        "it is immutable or unchangable"
      ],
      "metadata": {
        "id": "lxYCgpmmvpXb"
      }
    },
    {
      "cell_type": "markdown",
      "source": [],
      "metadata": {
        "id": "RlBsvZm-E3bC"
      }
    },
    {
      "cell_type": "code",
      "source": [
        "numbers = (1, 2, 3, 4, 5, 6, 7, 8, 9, 10)\n",
        "numbers"
      ],
      "metadata": {
        "id": "IFm-DZw5v0QA",
        "colab": {
          "base_uri": "https://localhost:8080/"
        },
        "outputId": "03243fb0-4d97-486c-c547-2a390def53bc"
      },
      "execution_count": 52,
      "outputs": [
        {
          "output_type": "execute_result",
          "data": {
            "text/plain": [
              "(1, 2, 3, 4, 5, 6, 7, 8, 9, 10)"
            ]
          },
          "metadata": {},
          "execution_count": 52
        }
      ]
    },
    {
      "cell_type": "code",
      "source": [
        "numbers[0]"
      ],
      "metadata": {
        "colab": {
          "base_uri": "https://localhost:8080/"
        },
        "id": "IMDLvZ-5-bB4",
        "outputId": "d5cf2e22-2b15-4c39-91ee-61df49eebb75"
      },
      "execution_count": 53,
      "outputs": [
        {
          "output_type": "execute_result",
          "data": {
            "text/plain": [
              "1"
            ]
          },
          "metadata": {},
          "execution_count": 53
        }
      ]
    },
    {
      "cell_type": "code",
      "source": [
        "numbers[-1]"
      ],
      "metadata": {
        "colab": {
          "base_uri": "https://localhost:8080/"
        },
        "id": "K9wmraLj-_iD",
        "outputId": "52f21dab-c382-4afe-8359-e199e487dc2b"
      },
      "execution_count": 54,
      "outputs": [
        {
          "output_type": "execute_result",
          "data": {
            "text/plain": [
              "10"
            ]
          },
          "metadata": {},
          "execution_count": 54
        }
      ]
    },
    {
      "cell_type": "code",
      "source": [
        "numbers[:-2]"
      ],
      "metadata": {
        "colab": {
          "base_uri": "https://localhost:8080/"
        },
        "id": "n2cgJS6r_GSy",
        "outputId": "39303285-e60b-48d5-de7a-234d2021f7d3"
      },
      "execution_count": 104,
      "outputs": [
        {
          "output_type": "execute_result",
          "data": {
            "text/plain": [
              "(1, 2, 3, 4, 5, 6, 7, 8)"
            ]
          },
          "metadata": {},
          "execution_count": 104
        }
      ]
    },
    {
      "cell_type": "code",
      "source": [
        "numbers [1] = 1    #IT SHOWS THE IMMUTABLITY OR UNCHANGABLITY OF TE STRING\n",
        "numbers\n"
      ],
      "metadata": {
        "colab": {
          "base_uri": "https://localhost:8080/",
          "height": 158
        },
        "id": "08H3MovS_MJT",
        "outputId": "9cdf998d-e76e-419a-d4e5-4cd1aa871199"
      },
      "execution_count": 105,
      "outputs": [
        {
          "output_type": "error",
          "ename": "TypeError",
          "evalue": "'tuple' object does not support item assignment",
          "traceback": [
            "\u001b[0;31m---------------------------------------------------------------------------\u001b[0m",
            "\u001b[0;31mTypeError\u001b[0m                                 Traceback (most recent call last)",
            "\u001b[0;32m<ipython-input-105-679e91fea645>\u001b[0m in \u001b[0;36m<cell line: 1>\u001b[0;34m()\u001b[0m\n\u001b[0;32m----> 1\u001b[0;31m \u001b[0mnumbers\u001b[0m \u001b[0;34m[\u001b[0m\u001b[0;36m1\u001b[0m\u001b[0;34m]\u001b[0m \u001b[0;34m=\u001b[0m \u001b[0;36m1\u001b[0m    \u001b[0;31m#IT SHOWS THE IMMUTABLITY OR UNCHANGABLITY OF TE STRING\u001b[0m\u001b[0;34m\u001b[0m\u001b[0;34m\u001b[0m\u001b[0m\n\u001b[0m\u001b[1;32m      2\u001b[0m \u001b[0mnumbers\u001b[0m\u001b[0;34m\u001b[0m\u001b[0;34m\u001b[0m\u001b[0m\n",
            "\u001b[0;31mTypeError\u001b[0m: 'tuple' object does not support item assignment"
          ]
        }
      ]
    },
    {
      "cell_type": "code",
      "source": [
        "num= (2, 2, 3, 4, 2, 6, 2, 8, 9, 10)\n",
        "num.count(2)"
      ],
      "metadata": {
        "colab": {
          "base_uri": "https://localhost:8080/"
        },
        "id": "aHbZ_Z75_fny",
        "outputId": "935a067b-ca13-470d-8f69-a82ec534e0a5"
      },
      "execution_count": 57,
      "outputs": [
        {
          "output_type": "execute_result",
          "data": {
            "text/plain": [
              "4"
            ]
          },
          "metadata": {},
          "execution_count": 57
        }
      ]
    },
    {
      "cell_type": "code",
      "source": [
        "numbers = (1, 2, 3, 4, 5, 6, 7, 8, 9, 10)\n",
        "numbers.index(6)"
      ],
      "metadata": {
        "colab": {
          "base_uri": "https://localhost:8080/"
        },
        "id": "1FOp_yiHEIvH",
        "outputId": "4b518226-37b2-4e9e-f2e4-b28921f3791e"
      },
      "execution_count": 58,
      "outputs": [
        {
          "output_type": "execute_result",
          "data": {
            "text/plain": [
              "5"
            ]
          },
          "metadata": {},
          "execution_count": 58
        }
      ]
    },
    {
      "cell_type": "markdown",
      "source": [
        "DICTIONARY"
      ],
      "metadata": {
        "id": "utUvtMoeGDYu"
      }
    },
    {
      "cell_type": "code",
      "source": [
        "dictionary = { \"name\": \"mohit\", \"age\": 19, \"salary\": 0.0 }\n",
        "dictionary\n"
      ],
      "metadata": {
        "colab": {
          "base_uri": "https://localhost:8080/"
        },
        "id": "rV87jMs3GEcb",
        "outputId": "4ce709f4-74e0-41f7-efe1-3796747b2a27"
      },
      "execution_count": 62,
      "outputs": [
        {
          "output_type": "execute_result",
          "data": {
            "text/plain": [
              "{'name': 'mohit', 'age': 19, 'salary': 0.0}"
            ]
          },
          "metadata": {},
          "execution_count": 62
        }
      ]
    },
    {
      "cell_type": "code",
      "source": [
        "a = {}\n",
        "a[\"name\"] = \"chotu\"\n",
        "a[\"position\"] = \"right_hand_vice_commander\"\n",
        "a[\"gender\"] = \"Male\"\n",
        "a[\"salry\"] = 0.50\n",
        "a\n"
      ],
      "metadata": {
        "colab": {
          "base_uri": "https://localhost:8080/"
        },
        "id": "ok03uK5ZGe8Z",
        "outputId": "b3da0621-8bf5-42b7-9338-cf88435637bd"
      },
      "execution_count": 63,
      "outputs": [
        {
          "output_type": "execute_result",
          "data": {
            "text/plain": [
              "{'name': 'chotu',\n",
              " 'position': 'right_hand_vice_commander',\n",
              " 'gender': 'Male',\n",
              " 'salry': 0.5}"
            ]
          },
          "metadata": {},
          "execution_count": 63
        }
      ]
    },
    {
      "cell_type": "code",
      "source": [
        "d= dict(name = \"chotu\", position = \"right_hand_vice_commander\", gender= \"Male\", salary = 0.50)\n",
        "d"
      ],
      "metadata": {
        "colab": {
          "base_uri": "https://localhost:8080/"
        },
        "id": "QLpN38acIkug",
        "outputId": "bc235ea3-6aac-4214-db1e-30dbcd57a677"
      },
      "execution_count": 66,
      "outputs": [
        {
          "output_type": "execute_result",
          "data": {
            "text/plain": [
              "{'name': 'chotu',\n",
              " 'position': 'right_hand_vice_commander',\n",
              " 'gender': 'Male',\n",
              " 'salary': 0.5}"
            ]
          },
          "metadata": {},
          "execution_count": 66
        }
      ]
    },
    {
      "cell_type": "code",
      "source": [
        "d[\"name\"]"
      ],
      "metadata": {
        "colab": {
          "base_uri": "https://localhost:8080/",
          "height": 36
        },
        "id": "2aZ5SiokJsVi",
        "outputId": "ac59c3ce-dca0-4fcf-ba57-5ae0f80f0a00"
      },
      "execution_count": 67,
      "outputs": [
        {
          "output_type": "execute_result",
          "data": {
            "text/plain": [
              "'chotu'"
            ],
            "application/vnd.google.colaboratory.intrinsic+json": {
              "type": "string"
            }
          },
          "metadata": {},
          "execution_count": 67
        }
      ]
    },
    {
      "cell_type": "code",
      "source": [
        "d[\"age\"]"
      ],
      "metadata": {
        "colab": {
          "base_uri": "https://localhost:8080/",
          "height": 141
        },
        "id": "SeUXBwVJKjSE",
        "outputId": "6830d1ef-5a00-4cba-e87c-40ae86fd8a6e"
      },
      "execution_count": 68,
      "outputs": [
        {
          "output_type": "error",
          "ename": "KeyError",
          "evalue": "'age'",
          "traceback": [
            "\u001b[0;31m---------------------------------------------------------------------------\u001b[0m",
            "\u001b[0;31mKeyError\u001b[0m                                  Traceback (most recent call last)",
            "\u001b[0;32m<ipython-input-68-351cab8a0992>\u001b[0m in \u001b[0;36m<cell line: 1>\u001b[0;34m()\u001b[0m\n\u001b[0;32m----> 1\u001b[0;31m \u001b[0md\u001b[0m\u001b[0;34m[\u001b[0m\u001b[0;34m\"age\"\u001b[0m\u001b[0;34m]\u001b[0m\u001b[0;34m\u001b[0m\u001b[0;34m\u001b[0m\u001b[0m\n\u001b[0m",
            "\u001b[0;31mKeyError\u001b[0m: 'age'"
          ]
        }
      ]
    },
    {
      "cell_type": "markdown",
      "source": [],
      "metadata": {
        "id": "HIJPdqedLs5R"
      }
    },
    {
      "cell_type": "code",
      "source": [
        "#lets try handling the error\n",
        "d= dict(name = \"chotu\", position = \"right_hand_vice_commander\", gender= \"Male\", salary = 0.50)\n",
        "try:\n",
        "  age =a[\"age\"]\n",
        "except KeyError:                            #here we are raising the key error\n",
        "  age = None\n",
        "age"
      ],
      "metadata": {
        "id": "fsbQHis5Kubt"
      },
      "execution_count": 72,
      "outputs": []
    },
    {
      "cell_type": "code",
      "source": [
        "#.get function\n",
        "d= dict(name = \"chotu\", position = \"right_hand_vice_commander\", gender= \"Male\", salary = 0.50)\n",
        "d.get('salary')"
      ],
      "metadata": {
        "colab": {
          "base_uri": "https://localhost:8080/"
        },
        "id": "QJXwqHWDL-bT",
        "outputId": "6a367af0-87f7-4305-da2c-6b8acf6bfb7f"
      },
      "execution_count": 89,
      "outputs": [
        {
          "output_type": "execute_result",
          "data": {
            "text/plain": [
              "0.5"
            ]
          },
          "metadata": {},
          "execution_count": 89
        }
      ]
    },
    {
      "cell_type": "code",
      "source": [
        "# use of pop\n",
        "d.pop('gender')\n",
        "d"
      ],
      "metadata": {
        "colab": {
          "base_uri": "https://localhost:8080/"
        },
        "id": "NLRXtf2cMtGt",
        "outputId": "7c410e0c-6e48-4155-e8c4-f6711d2db3dc"
      },
      "execution_count": 90,
      "outputs": [
        {
          "output_type": "execute_result",
          "data": {
            "text/plain": [
              "{'name': 'chotu', 'position': 'right_hand_vice_commander', 'salary': 0.5}"
            ]
          },
          "metadata": {},
          "execution_count": 90
        }
      ]
    },
    {
      "cell_type": "code",
      "source": [
        "# It removes the last key value pair\n",
        "d= dict(name = \"chotu\", position = \"right_hand_vice_commander\", gender= \"Male\", salary = 0.50)\n",
        "d.popitem()\n",
        "d\n"
      ],
      "metadata": {
        "colab": {
          "base_uri": "https://localhost:8080/"
        },
        "id": "789yzX0ANJon",
        "outputId": "647498e1-3058-4a33-98bc-e0c7308398c8"
      },
      "execution_count": 93,
      "outputs": [
        {
          "output_type": "execute_result",
          "data": {
            "text/plain": [
              "{'name': 'chotu', 'position': 'right_hand_vice_commander', 'gender': 'Male'}"
            ]
          },
          "metadata": {},
          "execution_count": 93
        }
      ]
    },
    {
      "cell_type": "code",
      "source": [
        "d= dict(name = \"chotu\", position = \"right_hand_vice_commander\", gender= \"Male\", salary = 0.50)\n",
        "del d['name']\n",
        "d\n",
        "\n"
      ],
      "metadata": {
        "colab": {
          "base_uri": "https://localhost:8080/"
        },
        "id": "R6oxXVJ8NxQ8",
        "outputId": "7d24de61-bceb-406c-9521-c8fd0f2a2b53"
      },
      "execution_count": 95,
      "outputs": [
        {
          "output_type": "execute_result",
          "data": {
            "text/plain": [
              "{'position': 'right_hand_vice_commander', 'gender': 'Male', 'salary': 0.5}"
            ]
          },
          "metadata": {},
          "execution_count": 95
        }
      ]
    },
    {
      "cell_type": "code",
      "source": [
        "d['age']=20\n",
        "d"
      ],
      "metadata": {
        "colab": {
          "base_uri": "https://localhost:8080/"
        },
        "id": "5GGtB7YNPLXC",
        "outputId": "178b469a-79ed-478f-f3e9-1bf4904ad32d"
      },
      "execution_count": 96,
      "outputs": [
        {
          "output_type": "execute_result",
          "data": {
            "text/plain": [
              "{'position': 'right_hand_vice_commander',\n",
              " 'gender': 'Male',\n",
              " 'salary': 0.5,\n",
              " 'age': 20}"
            ]
          },
          "metadata": {},
          "execution_count": 96
        }
      ]
    },
    {
      "cell_type": "code",
      "source": [
        "b = d.copy()\n",
        "b"
      ],
      "metadata": {
        "colab": {
          "base_uri": "https://localhost:8080/"
        },
        "id": "93J32P9LPhqo",
        "outputId": "912a3470-d6a8-47b9-d248-13b7a91bc693"
      },
      "execution_count": 99,
      "outputs": [
        {
          "output_type": "execute_result",
          "data": {
            "text/plain": [
              "{'position': 'right_hand_vice_commander',\n",
              " 'gender': 'Male',\n",
              " 'salary': 0.5,\n",
              " 'age': 20}"
            ]
          },
          "metadata": {},
          "execution_count": 99
        }
      ]
    },
    {
      "cell_type": "code",
      "source": [
        "d.clear()\n",
        "d"
      ],
      "metadata": {
        "colab": {
          "base_uri": "https://localhost:8080/"
        },
        "id": "GOajo7NPQ6-x",
        "outputId": "f28ed07e-eb52-487c-f9c5-bab0f440582f"
      },
      "execution_count": 101,
      "outputs": [
        {
          "output_type": "execute_result",
          "data": {
            "text/plain": [
              "{}"
            ]
          },
          "metadata": {},
          "execution_count": 101
        }
      ]
    },
    {
      "cell_type": "code",
      "source": [
        "#multiple keys with same values\n",
        "x= ('k1','k2','k3')\n",
        "y= 5\n",
        "z=dict.fromkeys(x,y)\n",
        "z"
      ],
      "metadata": {
        "colab": {
          "base_uri": "https://localhost:8080/"
        },
        "id": "K6h3hVeKP8VG",
        "outputId": "4658f339-8b19-44fa-93f6-067318785927"
      },
      "execution_count": 100,
      "outputs": [
        {
          "output_type": "execute_result",
          "data": {
            "text/plain": [
              "{'k1': 5, 'k2': 5, 'k3': 5}"
            ]
          },
          "metadata": {},
          "execution_count": 100
        }
      ]
    },
    {
      "cell_type": "code",
      "source": [
        "d= dict(name = \"chotu\", position = \"right_hand_vice_commander\", gender= \"Male\", salary = 0.50)\n",
        "d.keys()"
      ],
      "metadata": {
        "colab": {
          "base_uri": "https://localhost:8080/"
        },
        "id": "TcwwtkUsQ1uN",
        "outputId": "70447b84-11fb-4365-f9cf-4f5fc95a26b4"
      },
      "execution_count": 102,
      "outputs": [
        {
          "output_type": "execute_result",
          "data": {
            "text/plain": [
              "dict_keys(['name', 'position', 'gender', 'salary'])"
            ]
          },
          "metadata": {},
          "execution_count": 102
        }
      ]
    },
    {
      "cell_type": "code",
      "source": [
        "d.values()"
      ],
      "metadata": {
        "colab": {
          "base_uri": "https://localhost:8080/"
        },
        "id": "MAQIM9DzRT7e",
        "outputId": "236a4d20-1a47-4329-80a0-6eacade0a76a"
      },
      "execution_count": 103,
      "outputs": [
        {
          "output_type": "execute_result",
          "data": {
            "text/plain": [
              "dict_values(['chotu', 'right_hand_vice_commander', 'Male', 0.5])"
            ]
          },
          "metadata": {},
          "execution_count": 103
        }
      ]
    }
  ]
}